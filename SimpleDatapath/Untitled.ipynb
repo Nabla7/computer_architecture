{
 "cells": [
  {
   "cell_type": "code",
   "execution_count": 2,
   "id": "ba7682db-93d6-4eeb-91bb-e68d22de5901",
   "metadata": {},
   "outputs": [],
   "source": [
    "def fib(i):\n",
    "    if i<=1:\n",
    "        return i\n",
    "    \n",
    "    else:\n",
    "        return(fib(i-1) + fib(i-2))\n",
    "        "
   ]
  },
  {
   "cell_type": "code",
   "execution_count": 3,
   "id": "1534b46c-59fc-4118-8e47-b7fcb85e58f6",
   "metadata": {},
   "outputs": [
    {
     "data": {
      "text/plain": [
       "1"
      ]
     },
     "execution_count": 3,
     "metadata": {},
     "output_type": "execute_result"
    }
   ],
   "source": [
    "fib(1)"
   ]
  },
  {
   "cell_type": "code",
   "execution_count": 5,
   "id": "e2547294-b971-4ea9-b8b4-367dd8898536",
   "metadata": {},
   "outputs": [
    {
     "data": {
      "text/plain": [
       "2584"
      ]
     },
     "execution_count": 5,
     "metadata": {},
     "output_type": "execute_result"
    }
   ],
   "source": [
    "fib(18)"
   ]
  },
  {
   "cell_type": "code",
   "execution_count": null,
   "id": "3f53c858-7279-434c-bad6-41960dbae144",
   "metadata": {},
   "outputs": [],
   "source": []
  }
 ],
 "metadata": {
  "kernelspec": {
   "display_name": "Python 3 (ipykernel)",
   "language": "python",
   "name": "python3"
  },
  "language_info": {
   "codemirror_mode": {
    "name": "ipython",
    "version": 3
   },
   "file_extension": ".py",
   "mimetype": "text/x-python",
   "name": "python",
   "nbconvert_exporter": "python",
   "pygments_lexer": "ipython3",
   "version": "3.9.7"
  }
 },
 "nbformat": 4,
 "nbformat_minor": 5
}
